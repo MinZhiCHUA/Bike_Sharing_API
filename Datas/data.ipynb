{
 "cells": [
  {
   "cell_type": "code",
   "execution_count": 16,
   "metadata": {},
   "outputs": [],
   "source": [
    "import pandas as pd"
   ]
  },
  {
   "cell_type": "code",
   "execution_count": 17,
   "metadata": {},
   "outputs": [],
   "source": [
    "df = pd.read_csv(\"train.csv\")\n",
    "df_test = pd.read_csv(\"test.csv\")"
   ]
  },
  {
   "cell_type": "markdown",
   "metadata": {},
   "source": [
    "## Création days et hours "
   ]
  },
  {
   "cell_type": "code",
   "execution_count": 18,
   "metadata": {},
   "outputs": [],
   "source": [
    "df[\"day\"] = pd.to_datetime(df.datetime).dt.strftime(\"%A %d. %B %Y\").str.extract(r'(\\w+)\\s') #Extract day from datetime\n",
    "df[\"month\"] = pd.to_datetime(df.datetime).dt.month #Extract month from datetime\n",
    "# df[\"day_number\"] = (pd.to_datetime(df.datetime) - pd.to_datetime(df.datetime).min()).dt.days #Extract day_number from datetime\n",
    "df[\"day_number\"] = pd.to_datetime(df.datetime).dt.day #Extract day_number from datetime\n",
    "df[\"year\"] = pd.to_datetime(df.datetime).dt.year #Extract year from datetime\n",
    "df[\"hour\"] = pd.to_datetime(df.datetime).dt.hour"
   ]
  },
  {
   "cell_type": "code",
   "execution_count": 19,
   "metadata": {},
   "outputs": [],
   "source": [
    "df_test[\"day\"] = pd.to_datetime(df_test.datetime).dt.strftime(\"%A %d. %B %Y\").str.extract(r'(\\w+)\\s') #Extract day from datetime\n",
    "df_test[\"month\"] = pd.to_datetime(df_test.datetime).dt.month #Extract month from datetime\n",
    "# df_test[\"day_number\"] = (pd.to_datetime(df_test.datetime) - pd.to_datetime(df_test.datetime).min()).dt.days #Extract day_number from datetime\n",
    "df_test[\"day_number\"] = pd.to_datetime(df_test.datetime).dt.day #Extract day_number from datetime\n",
    "df_test[\"year\"] = pd.to_datetime(df_test.datetime).dt.year #Extract year from datetime\n",
    "df_test[\"hour\"] = pd.to_datetime(df_test.datetime).dt.hour"
   ]
  },
  {
   "cell_type": "markdown",
   "metadata": {},
   "source": [
    "## Weather 4"
   ]
  },
  {
   "cell_type": "code",
   "execution_count": 20,
   "metadata": {},
   "outputs": [],
   "source": [
    "df[\"weather\"] = df.weather.replace(4,3)\n",
    "df_test[\"weather\"] = df_test.weather.replace(4,3)"
   ]
  },
  {
   "cell_type": "markdown",
   "metadata": {},
   "source": [
    "## Suppression des colonnes inutiles ou trop corrélées"
   ]
  },
  {
   "cell_type": "code",
   "execution_count": 21,
   "metadata": {},
   "outputs": [],
   "source": [
    "df = df.drop([\"casual\", \"registered\", \"atemp\"], axis=1)"
   ]
  },
  {
   "cell_type": "code",
   "execution_count": 22,
   "metadata": {},
   "outputs": [],
   "source": [
    "df.to_csv(\"data.csv\", index=False)\n",
    "df_test.to_csv(\"data_test.csv\", index=False)"
   ]
  }
 ],
 "metadata": {
  "interpreter": {
   "hash": "e8e72ecd218193d245fb3b010d45ad55dac7ff54b5052aa4883c6a911d9d65f6"
  },
  "kernelspec": {
   "display_name": "Python 3.9.7 ('rb_ds')",
   "language": "python",
   "name": "python3"
  },
  "language_info": {
   "codemirror_mode": {
    "name": "ipython",
    "version": 3
   },
   "file_extension": ".py",
   "mimetype": "text/x-python",
   "name": "python",
   "nbconvert_exporter": "python",
   "pygments_lexer": "ipython3",
   "version": "3.9.7"
  },
  "orig_nbformat": 4
 },
 "nbformat": 4,
 "nbformat_minor": 2
}
